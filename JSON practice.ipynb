{
 "cells": [
  {
   "cell_type": "code",
   "execution_count": 1,
   "id": "88515fa8-7951-420f-8299-b9c10beee6f1",
   "metadata": {},
   "outputs": [],
   "source": [
    "# JSON practice"
   ]
  },
  {
   "cell_type": "code",
   "execution_count": 2,
   "id": "bfac09ee-87e0-4a6a-8a11-078e74bfe341",
   "metadata": {},
   "outputs": [],
   "source": [
    "import json"
   ]
  },
  {
   "cell_type": "markdown",
   "id": "b54ab8d4-49d6-4556-9d73-0f7e013380d3",
   "metadata": {},
   "source": [
    "JSON to python"
   ]
  },
  {
   "cell_type": "code",
   "execution_count": 16,
   "id": "13fb4cbe-e21e-4fec-b7a8-6b8463176977",
   "metadata": {},
   "outputs": [
    {
     "name": "stdout",
     "output_type": "stream",
     "text": [
      "30\n",
      "<class 'dict'>\n",
      "{'name': 'John', 'age': 30, 'city': 'New York', 'nun': 'none'}\n"
     ]
    }
   ],
   "source": [
    "import json\n",
    "\n",
    "# some JSON:\n",
    "x =  '{ \"name\":\"John\", \"age\":30, \"city\":\"New York\"}' #a normal string structured to for JSON\n",
    "\n",
    "# parse x:\n",
    "y = json.loads(x) # use load method from json module to Load and parse JSON\n",
    "# the result is a Python dictionary:\n",
    "print(y[\"age\"]) # 3 now that it is python it has an index called\n",
    "\n",
    "print(type(y)) #JSON files are structurally similar to dicts\n",
    "\n",
    "print(y)\n",
    "\n",
    "\n",
    "\n",
    "\n"
   ]
  },
  {
   "cell_type": "markdown",
   "id": "7b379a71-6e02-4eb7-b4e6-c36101175a2c",
   "metadata": {},
   "source": [
    "Python to JSON"
   ]
  },
  {
   "cell_type": "code",
   "execution_count": 8,
   "id": "f41eab04-30a1-44a8-b62c-dec41a686787",
   "metadata": {},
   "outputs": [
    {
     "name": "stdout",
     "output_type": "stream",
     "text": [
      "{\"name\": \"John\", \"age\": 30, \"city\": \"New York\"}\n"
     ]
    }
   ],
   "source": [
    "import json\n",
    "\n",
    "# a Python object (dict):\n",
    "x = {\n",
    "  \"name\": \"John\",\n",
    "  \"age\": 30,\n",
    "  \"city\": \"New York\"\n",
    "}\n",
    "\n",
    "# convert into JSON:\n",
    "y = json.dumps(x)\n",
    "\n",
    "# the result is a JSON string:\n",
    "print(y) "
   ]
  },
  {
   "cell_type": "code",
   "execution_count": 18,
   "id": "f76eda04-593f-4392-8f37-4fd9b8237f9f",
   "metadata": {},
   "outputs": [],
   "source": [
    "#book reference\n",
    "import json\n",
    "data = {\n",
    "'name' : 'ACME',\n",
    "'shares' : 100,\n",
    "'price' : 542.23\n",
    "}\n",
    "\n",
    "#If you are working with files instead of strings, you can alternatively use json.dump()\n",
    "#and json.load() to encode and decode JSON data. For example:\n",
    "\n",
    "# Writing JSON data\n",
    "with open('data.json', 'w') as f:\n",
    "    json.dump(data, f)\n",
    "# Reading data back\n",
    "with open('data.json', 'r') as f:\n",
    "    data = json.load(f)\n",
    "    \n"
   ]
  },
  {
   "cell_type": "markdown",
   "id": "493cdcaf-dc43-46be-b7fd-5b8f37d82e04",
   "metadata": {},
   "source": [
    "## Key differences"
   ]
  },
  {
   "cell_type": "code",
   "execution_count": 23,
   "id": "29031033-4170-48ce-83b3-ab68e1832bec",
   "metadata": {},
   "outputs": [
    {
     "name": "stdout",
     "output_type": "stream",
     "text": [
      "false\n",
      "true\n"
     ]
    },
    {
     "data": {
      "text/plain": [
       "'{\"a\": true, \"b\": \"Hello\", \"c\": null}'"
      ]
     },
     "execution_count": 23,
     "metadata": {},
     "output_type": "execute_result"
    }
   ],
   "source": [
    "'''  \n",
    "General notes: Ignore below\n",
    "The format of JSON encoding is almost identical to Python syntax except for a few\n",
    "minor changes. For instance, True is mapped to true, False is mapped to false, and\n",
    "None is mapped to null. Here is an example that shows what the encoding looks like:\n",
    "\n",
    "JSON encoding supports the basic types of None, bool, int, float, and str, as well as\n",
    "lists, tuples, and dictionaries containing those types. For dictionaries, keys are assumed\n",
    "to be strings (any nonstring keys in a dictionary are converted to strings)\n",
    "\n",
    "Normally, JSON decoding will create dicts or lists from the supplied data\n",
    "\n",
    "'''\n",
    "print(json.dumps(False))\n",
    "print(json.dumps(True))\n",
    "'false'\n",
    "d = {\n",
    " 'a': True,\n",
    " 'b': 'Hello',\n",
    " 'c': None\n",
    "}\n",
    "json.dumps(d)"
   ]
  },
  {
   "cell_type": "code",
   "execution_count": 27,
   "id": "907bf454-1c5f-43b5-ba00-d4dc46ef70ac",
   "metadata": {},
   "outputs": [
    {
     "data": {
      "text/plain": [
       "'{\"1\": true, \"b\": \"Hello\", \"c\": null}'"
      ]
     },
     "execution_count": 27,
     "metadata": {},
     "output_type": "execute_result"
    }
   ],
   "source": [
    "non_str = {\n",
    "  1: True,\n",
    " 'b': 'Hello',\n",
    " 'c': None\n",
    "}\n",
    "json.dumps(non_str) # note how int 1 is changed to string \"1\""
   ]
  },
  {
   "cell_type": "code",
   "execution_count": null,
   "id": "52c28add-9c5d-4ec0-9071-fd2f1c65aadf",
   "metadata": {},
   "outputs": [],
   "source": []
  }
 ],
 "metadata": {
  "kernelspec": {
   "display_name": "Python 3 (ipykernel)",
   "language": "python",
   "name": "python3"
  },
  "language_info": {
   "codemirror_mode": {
    "name": "ipython",
    "version": 3
   },
   "file_extension": ".py",
   "mimetype": "text/x-python",
   "name": "python",
   "nbconvert_exporter": "python",
   "pygments_lexer": "ipython3",
   "version": "3.9.12"
  }
 },
 "nbformat": 4,
 "nbformat_minor": 5
}
