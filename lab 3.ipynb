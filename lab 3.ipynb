{
 "cells": [
  {
   "cell_type": "markdown",
   "metadata": {
    "id": "vC_FG-ZjVqyn"
   },
   "source": [
    "Link to lab page in Github Repo: \n",
    "\n",
    "https://github.com/saikiranchalla1/learning-python/blob/main/labs/Lab-3.md"
   ]
  },
  {
   "cell_type": "markdown",
   "metadata": {
    "id": "eNImf496Vlay"
   },
   "source": [
    "Section 3.1"
   ]
  },
  {
   "cell_type": "code",
   "execution_count": 1,
   "metadata": {
    "colab": {
     "base_uri": "https://localhost:8080/"
    },
    "id": "L31sNkPYA-DS",
    "outputId": "753627d0-2d7a-4e31-b3e3-79734d9818b6"
   },
   "outputs": [
    {
     "name": "stdout",
     "output_type": "stream",
     "text": [
      "4.612845\n",
      "4.6\n",
      "4.61\n",
      "4.613\n",
      "4.6128\n",
      "4.61285\n",
      "-4.61285\n",
      "0.0\n"
     ]
    }
   ],
   "source": [
    "#You want to round a floating-point number to a fixed number of decimal places.\n",
    "floating_point_num = 4.612845\n",
    "print(floating_point_num)\n",
    "print(round(floating_point_num, 1))\n",
    "print(round(floating_point_num, 2))\n",
    "print(round(floating_point_num, 3))\n",
    "print(round(floating_point_num, 4))\n",
    "print(round(floating_point_num, 5))\n",
    "print(round(-floating_point_num, 5))\n",
    "print(round(floating_point_num, -5))\n"
   ]
  },
  {
   "cell_type": "markdown",
   "metadata": {
    "id": "02jJL5hDYbHh"
   },
   "source": [
    "3.2"
   ]
  },
  {
   "cell_type": "code",
   "execution_count": 17,
   "metadata": {
    "colab": {
     "base_uri": "https://localhost:8080/"
    },
    "id": "ZFXdwJtKX9Qu",
    "outputId": "a175e71d-2c05-47ff-f54e-b8dbaeb3bac6"
   },
   "outputs": [
    {
     "name": "stdout",
     "output_type": "stream",
     "text": [
      "7.9399999999999995\n",
      "7.939999999999999946709294818\n",
      "0.65417\n",
      "-1.6600\n",
      "7.9400\n",
      "7.94\n"
     ]
    }
   ],
   "source": [
    "#You need to perform accurate calculations with decimal numbers, and don’t want the small errors that naturally occur with floats.\n",
    "#not accurate\n",
    "from decimal import Decimal  \n",
    "a = 3.14\n",
    "b= 4.8\n",
    "summation = a + b\n",
    "print(summation)\n",
    "\n",
    "#accurate below\n",
    "var1 = Decimal(a)\n",
    "var2 = Decimal(b)\n",
    "summed = var1 + var2\n",
    "print(summed)\n",
    "\n",
    "#using local context\n",
    "from decimal import localcontext\n",
    "with localcontext() as ctx:\n",
    "  ctx.prec = 5\n",
    "  print(var1 / var2)\n",
    "  print(var1 - var2)\n",
    "  print(var1 + var2)\n",
    "    \n",
    "with localcontext() as ctx:\n",
    "    ctx.prec = 3\n",
    "    print(var1 + var2)\n",
    "    \n",
    "#help(Decimal())\n"
   ]
  },
  {
   "cell_type": "markdown",
   "metadata": {
    "id": "LOBm08r0b2-h"
   },
   "source": [
    "3.3"
   ]
  },
  {
   "cell_type": "code",
   "execution_count": null,
   "metadata": {
    "colab": {
     "base_uri": "https://localhost:8080/"
    },
    "id": "Z2ycQEsla4z5",
    "outputId": "f5eba3d1-8574-415e-ae23-818ede8d2ec6"
   },
   "outputs": [
    {
     "name": "stdout",
     "output_type": "stream",
     "text": [
      "7,654,321\n",
      "1.00000\n",
      "7.654E+06\n",
      " 1.00000  \n",
      "1.00000   \n",
      "   1.00000\n",
      "7654321.00000\n"
     ]
    }
   ],
   "source": [
    "#You need to format a number for output, controlling the number of digits, alignment, inclusion of a thousands separator, and other details. \n",
    "#Solution To format a single number for output, use the built-in format() function.\n",
    "#one millionth seperator\n",
    "number = 7654321\n",
    "print(format(number, ','))\n",
    "\n",
    "#one millionth seperator\n",
    "number2 = 1\n",
    "#5 decimal places\n",
    "print(format(number2, '0.5f'))\\\n",
    "#exponential notation\n",
    "number = 7654321\n",
    "print(format(number, '0.3E'))\n",
    "# centered aligned\n",
    "print(format(number2, '^10.5f'))\n",
    "#left aligned\n",
    "print(format(number2, '<10.5f'))\n",
    "#right aligned\n",
    "print(format(number2, '>10.5f'))\n",
    "#including multiple concepts\n",
    "print(format(number, '>10.5f'))"
   ]
  },
  {
   "cell_type": "markdown",
   "metadata": {
    "id": "2dnAcFV8lfS2"
   },
   "source": [
    "3.4"
   ]
  },
  {
   "cell_type": "code",
   "execution_count": 22,
   "metadata": {
    "colab": {
     "base_uri": "https://localhost:8080/"
    },
    "id": "crB_n55fcVTC",
    "outputId": "b5ca3576-db2e-4155-e1c0-646aa5fea585"
   },
   "outputs": [
    {
     "name": "stdout",
     "output_type": "stream",
     "text": [
      "0b11000000111001\n",
      "11000000111001\n",
      "0o30071\n",
      "30071\n",
      "0x3039\n",
      "3039\n",
      "Help on built-in function format in module builtins:\n",
      "\n",
      "format(value, format_spec='', /)\n",
      "    Return value.__format__(format_spec)\n",
      "    \n",
      "    format_spec defaults to the empty string.\n",
      "    See the Format Specification Mini-Language section of help('FORMATTING') for\n",
      "    details.\n",
      "\n",
      "each format removes the letter\n"
     ]
    }
   ],
   "source": [
    "#You need to convert or output integers represented by binary, octal, or hexadecimal digits.\n",
    "\n",
    "# output binary\n",
    "x1 = 12345\n",
    "\n",
    "#b for binary\n",
    "print(bin(x1))\n",
    "\n",
    "print(format(x1, 'b'))\n",
    "\n",
    "\n",
    "#output octal\n",
    "#o for octal\n",
    "print(oct(x1))\n",
    "print(format(x1, 'o'))\n",
    "\n",
    "#output hexidecimal\n",
    "#x for hex\n",
    "print(hex(x1))\n",
    "print(format(x1, 'x'))\n",
    "help(format)\n",
    "print(\"each format removes the letter\")\n"
   ]
  },
  {
   "cell_type": "markdown",
   "metadata": {
    "id": "eOIxZmk6pPQs"
   },
   "source": [
    "3.6"
   ]
  },
  {
   "cell_type": "code",
   "execution_count": 3,
   "metadata": {
    "colab": {
     "base_uri": "https://localhost:8080/"
    },
    "id": "WN9cM0BepQTz",
    "outputId": "2dcb7afb-6cf1-4e1d-9218-1023f50bc783"
   },
   "outputs": [
    {
     "name": "stdout",
     "output_type": "stream",
     "text": [
      "Values:\n",
      " a.real=2.0 and a.imag=4.0\n",
      " b=-1\n",
      " c=(3+4j)\n",
      " d=3.14\n",
      "\n"
     ]
    }
   ],
   "source": [
    "#Your code for interacting with the latest web authentication scheme has encountered a singularity and your only solution is to go around it in the complex plane. \n",
    "#Or maybe you just need to perform some calculations using complex numbers.\n",
    "\n",
    "a = complex(2, 4)\n",
    "b = 3-4\n",
    "c = 3+4j\n",
    "d = 3.14\n",
    "#print(\"Absolute values\\n{}\".format(abs(a)))\n",
    "#print(abs(b))\n",
    "#print(abs(c))\n",
    "#print(abs(d))\n",
    "\n",
    "print(\"Values:\\n a.real={} and a.imag={}\\n b={}\\n c={}\\n d={}\\n\".format(a.real,a.imag,b,c,d))"
   ]
  },
  {
   "cell_type": "markdown",
   "metadata": {
    "id": "DRt5UzyRteZa"
   },
   "source": [
    "3.7"
   ]
  },
  {
   "cell_type": "code",
   "execution_count": null,
   "metadata": {
    "colab": {
     "base_uri": "https://localhost:8080/"
    },
    "id": "MJGUBEDNswJT",
    "outputId": "89cc9fa5-7d11-4442-8e24-d9b3e2fa8be7"
   },
   "outputs": [
    {
     "name": "stdout",
     "output_type": "stream",
     "text": [
      "inf\n",
      "-inf\n",
      "nan\n",
      "False\n",
      "True\n",
      "True\n",
      "True\n"
     ]
    }
   ],
   "source": [
    "#You need to create or test for the floating-point values of infinity, negative infinity, or NaN (not a number).\n",
    "\n",
    "#create infinity, negative infinity, or NaN variables\n",
    "inf = float('inf')\n",
    "print(inf)\n",
    "neg_inf = float('-inf')\n",
    "print(neg_inf)\n",
    "nan = float('nan')\n",
    "print(nan)\n",
    "\n",
    "#testing values\n",
    "from math import *\n",
    "a = 4\n",
    "print(isinf(a))\n",
    "print(isinf(inf))\n",
    "print(isinf(neg_inf))\n",
    "print(isnan(nan))"
   ]
  },
  {
   "cell_type": "markdown",
   "metadata": {
    "id": "nMgl1WWH9w4E"
   },
   "source": [
    "3.11"
   ]
  },
  {
   "cell_type": "code",
   "execution_count": 4,
   "metadata": {
    "colab": {
     "base_uri": "https://localhost:8080/"
    },
    "id": "e1qQqasO9wbF",
    "outputId": "c14aa66b-05c6-44d1-f034-e455cd79f4dd"
   },
   "outputs": [
    {
     "name": "stdout",
     "output_type": "stream",
     "text": [
      "a3600770964\n"
     ]
    }
   ],
   "source": [
    "#You want to pick random items out of a sequence or generate random numbers.\n",
    "\n",
    "#generate random large-multi-character number string\n",
    "from random import randint\n",
    "\n",
    "concat_num_str = 'a' \n",
    "for i in range(10):\n",
    "  value = randint(0, 10)\n",
    "  concat_num_str = concat_num_str + str(value)\n",
    "print(concat_num_str)"
   ]
  },
  {
   "cell_type": "code",
   "execution_count": null,
   "metadata": {},
   "outputs": [],
   "source": []
  }
 ],
 "metadata": {
  "colab": {
   "collapsed_sections": [],
   "provenance": []
  },
  "kernelspec": {
   "display_name": "Python 3 (ipykernel)",
   "language": "python",
   "name": "python3"
  },
  "language_info": {
   "codemirror_mode": {
    "name": "ipython",
    "version": 3
   },
   "file_extension": ".py",
   "mimetype": "text/x-python",
   "name": "python",
   "nbconvert_exporter": "python",
   "pygments_lexer": "ipython3",
   "version": "3.9.12"
  }
 },
 "nbformat": 4,
 "nbformat_minor": 1
}
