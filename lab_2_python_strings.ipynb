{
 "cells": [
  {
   "cell_type": "markdown",
   "metadata": {},
   "source": [
    "# LAB 2 Chapter 2 Strings\n",
    "\n",
    "Almost every useful program involves some kind of text processing, whether it is parsing\n",
    "data or generating output. This chapter focuses on common problems involving text\n",
    "manipulation, such as pulling apart strings, searching, substitution, lexing, and parsing.\n",
    "Many of these tasks can be easily solved using built-in methods of strings. However,\n",
    "more complicated operations might require the use of regular expressions or the cre‐\n",
    "ation of a full-fledged parser. All of these topics are covered. In addition, a few tricky\n",
    "aspects of working with Unicode are addressed."
   ]
  },
  {
   "cell_type": "markdown",
   "metadata": {},
   "source": [
    "#### 2.2 problem \n",
    "You need to check the start or end of a string for specific text patterns, such as filename extensions, URL schemes, and so on.\n",
    "\n",
    "- str.start_with\n",
    "- str.end_with\n",
    "- both methods take in a tuple, a list will throw an error"
   ]
  },
  {
   "cell_type": "code",
   "execution_count": 3,
   "metadata": {},
   "outputs": [
    {
     "name": "stdout",
     "output_type": "stream",
     "text": [
      "True True False\n"
     ]
    }
   ],
   "source": [
    "name = 'Ebuka'\n",
    "print(name.startswith('Eb'), name.endswith('a'),name.startswith('z'))"
   ]
  },
  {
   "cell_type": "markdown",
   "metadata": {},
   "source": [
    "#### 2.3 Problem\n",
    "You want to match text using the same wildcard patterns as are commonly used when\n",
    "working in Unix shells (e.g., *.py, Dat[0-9]*.csv, etc.).\n",
    "\n",
    "- fnmatch import fnmatch, fnmatchcase\n"
   ]
  },
  {
   "cell_type": "code",
   "execution_count": 4,
   "metadata": {},
   "outputs": [
    {
     "name": "stdout",
     "output_type": "stream",
     "text": [
      "True\n",
      "False\n"
     ]
    }
   ],
   "source": [
    "from fnmatch import fnmatch, fnmatchcase\n",
    "# on windows True\n",
    "print(fnmatch('foo.txt', '*.TXT'))\n",
    "print(fnmatchcase('foo.txt', '*.TXT'))"
   ]
  },
  {
   "cell_type": "markdown",
   "metadata": {},
   "source": [
    "#### 2.4 Problem\n",
    "You want to match or search text for a specific pattern.\n",
    "- simple literal, \n",
    "    - str.find(), str.endswith(), str.startswith(),\n",
    "- use re ( regular expression) to do more complicated things\n",
    "    - d+ one or more digit\n",
    "    - one or more\n",
    "    - $ if you want the exact match\n",
    "    \n",
    "- better to precompile a re if its going to be matched multiple times\n",
    "    - match capture the first match\n",
    "    - use findall to get all matches\n",
    "- using match can help seperate the group that match\n",
    "- better to use raw strings\n",
    "    "
   ]
  },
  {
   "cell_type": "code",
   "execution_count": 5,
   "metadata": {},
   "outputs": [
    {
     "name": "stdout",
     "output_type": "stream",
     "text": [
      "<class 're.Match'>\n",
      "<re.Match object; span=(0, 10), match='11/27/2012'>\n",
      "group():  11/27/2012\n",
      "group(0):  11/27/2012\n",
      "group(1):  11\n",
      "group(2):  27\n",
      "group(3):  2012\n",
      "groups:  ('11', '27', '2012')\n"
     ]
    },
    {
     "data": {
      "text/plain": [
       "[('11', '27', '2012'), ('3', '13', '2013')]"
      ]
     },
     "execution_count": 5,
     "metadata": {},
     "output_type": "execute_result"
    }
   ],
   "source": [
    "datepat = re.compile(r'(\\d+)/(\\d+)/(\\d+)')\n",
    "m = datepat.match('11/27/2012')\n",
    "print(type(m))\n",
    "print(m)\n",
    "print('group(): ',m.group())\n",
    "print('group(0): ',m.group(0))\n",
    "print('group(1): ',m.group(1))\n",
    "print('group(2): ',m.group(2))\n",
    "print('group(3): ',m.group(3))\n",
    "print('groups: ',m.groups())\n",
    "\n",
    "text = 'Today is 11/27/2012. PyCon starts 3/13/2013.'\n",
    "datepat.findall(text)"
   ]
  },
  {
   "cell_type": "markdown",
   "metadata": {},
   "source": [
    "### Problem 2.5\n",
    "You want to search for and replace a text pattern in a string.\n",
    "\n",
    "- str.replace\n",
    "- for more complicated numbers use sub from the re module \n",
    "- \\3 <- the 3 represent the capture group"
   ]
  },
  {
   "cell_type": "code",
   "execution_count": 6,
   "metadata": {},
   "outputs": [
    {
     "name": "stdout",
     "output_type": "stream",
     "text": [
      "yeah, but na, but yeah, but na, but yeah\n",
      "text Today is 11/27/2012. PyCon starts 3/13/2013.\n",
      "text re sub: Today is 2012-11-27. PyCon starts 2013-3-13.\n"
     ]
    }
   ],
   "source": [
    "text = 'yeah, but no, but yeah, but no, but yeah'\n",
    "print(text.replace('no', 'na'))\n",
    "text = 'Today is 11/27/2012. PyCon starts 3/13/2013.'\n",
    "print('text',text)\n",
    "print('text re sub:',re.sub(r'(\\d+)/(\\d+)/(\\d+)', r'\\3-\\1-\\2', text))\n"
   ]
  },
  {
   "cell_type": "markdown",
   "metadata": {},
   "source": [
    "#### Problem 2.6 \n",
    "You need to search for and possibly replace text in a case-insensitive manner.\n",
    "\n",
    "- re.IGNORECASE flag\n",
    "    - re.sub('python', 'snake', text, flags=re.IGNORECASE)"
   ]
  },
  {
   "cell_type": "code",
   "execution_count": null,
   "metadata": {},
   "outputs": [],
   "source": []
  },
  {
   "cell_type": "markdown",
   "metadata": {},
   "source": [
    "#### 2.7 problem\n",
    "You’re trying to match a text pattern using regular expressions, but it is identifying the longest possible matches of a pattern. Instead, you would like to change it to find the shortest possible match.\n",
    "\n",
    "- re ? - matches 0 or 1 occuance\n",
    "-    . - matches any character except \\n\n",
    "- noncapture group (i.e., it defines a group for the purposes of matching, but that group is not captured separately or numbered).\n",
    "-  re.DOTALL match all char including new lines"
   ]
  },
  {
   "cell_type": "code",
   "execution_count": 12,
   "metadata": {},
   "outputs": [
    {
     "name": "stdout",
     "output_type": "stream",
     "text": [
      "['NO.']\n",
      "['No.\" Phone says \"Yes.']\n"
     ]
    }
   ],
   "source": [
    "import re\n",
    "str_pat = re.compile(r'\\\"(.*)\\\"')\n",
    "text = 'Computer sayas \"NO.\"'\n",
    "print(str_pat.findall(text))\n",
    "text = 'Computer says \"No.\" Phone says \"Yes.\"'\n",
    "print(str_pat.findall(text))"
   ]
  },
  {
   "cell_type": "code",
   "execution_count": 13,
   "metadata": {},
   "outputs": [
    {
     "name": "stdout",
     "output_type": "stream",
     "text": [
      "['NO.']\n",
      "['No.', 'Yes.']\n"
     ]
    }
   ],
   "source": [
    "str_pat = re.compile(r'\\\"(.*?)\\\"')\n",
    "text = 'Computer sayas \"NO.\"'\n",
    "print(str_pat.findall(text))\n",
    "text = 'Computer says \"No.\" Phone says \"Yes.\"'\n",
    "print(str_pat.findall(text))"
   ]
  },
  {
   "cell_type": "markdown",
   "metadata": {},
   "source": [
    "#### 2.8 Problem\n",
    "You’re trying to match a block of text using a regular expression, but you need the match\n",
    "to span multiple lines."
   ]
  },
  {
   "cell_type": "code",
   "execution_count": 19,
   "metadata": {},
   "outputs": [
    {
     "name": "stdout",
     "output_type": "stream",
     "text": [
      "[' this is a comment ']\n",
      "[]\n",
      "[' this is a\\n... multiline comment ']\n"
     ]
    }
   ],
   "source": [
    "comment_pat = re.compile(r'/\\*(.*?)\\*/')\n",
    "text1 = '/* this is a comment */'\n",
    "text2 = '''/* this is a\n",
    "... multiline comment */\n",
    "... '''\n",
    "\n",
    "print(comment_pat.findall(text1))\n",
    "print(comment_pat.findall(text2))\n",
    "comment = re.compile(r'/\\*((?:.|\\n)*?)\\*/')\n",
    "# (?:..) =no grouping\n",
    "print(comment.findall(text2))"
   ]
  },
  {
   "cell_type": "markdown",
   "metadata": {},
   "source": [
    "#### 2.9 Problem\n",
    "You’re working with Unicode strings, but need to make sure that all of the strings have\n",
    "the same underlying representation.\n",
    "\n",
    "- first normalize the text into a standard representation using the unicodedata module\n",
    "- The first argument to normalize() specifies how you want the string normalized. \n",
    "- NFC means that characters should be fully composed (i.e., use a single code point if possible). \n",
    "- NFD means that characters should be fully decomposed with the use of combining characters.\n",
    "- NFKC and NFKD,\n",
    "- Normalization can also be an important part of sanitizing and filtering text. For example, suppose you want to remove all diacritical marks from some text (possibly for the purposes of searching or matching):"
   ]
  },
  {
   "cell_type": "code",
   "execution_count": 27,
   "metadata": {},
   "outputs": [
    {
     "name": "stdout",
     "output_type": "stream",
     "text": [
      "Spicy Jalapeño\n",
      "Spicy Jalapeño\n",
      "False\n",
      "True\n",
      "asscii t1: 'Spicy Jalape\\xf1o'\n",
      "True\n",
      "asscii t1: 'Spicy Jalapen\\u0303o'\n"
     ]
    }
   ],
   "source": [
    "import unicodedata \n",
    "\n",
    "s1 = 'Spicy Jalape\\u00f1o'\n",
    "s2 = 'Spicy Jalapen\\u0303o'\n",
    "print(s1)\n",
    "print(s2)\n",
    "print(s1==s2)\n",
    "\n",
    "t1 = unicodedata.normalize('NFC',s1)\n",
    "t2 = unicodedata.normalize('NFC',s1)\n",
    "print(t1 == t2)\n",
    "print(f'asscii t1: {ascii(t1)}')\n",
    "\n",
    "t1 = unicodedata.normalize('NFD',s1)\n",
    "t2 = unicodedata.normalize('NFD',s1)\n",
    "print(t1 == t2)\n",
    "print(f'asscii t1: {ascii(t1)}')"
   ]
  },
  {
   "cell_type": "markdown",
   "metadata": {},
   "source": [
    "#### 2.11 Problem\n",
    "You want to strip unwanted characters, such as whitespace, from the beginning, end, or\n",
    "middle of a text string.\n",
    "\n",
    "- strip is good when you want to remove char from left or fight\n",
    "- str.replace or re.sub for middle of text"
   ]
  },
  {
   "cell_type": "code",
   "execution_count": 39,
   "metadata": {},
   "outputs": [
    {
     "name": "stdout",
     "output_type": "stream",
     "text": [
      "      hello      world   \n",
      "\n",
      "***str.strip()***\n",
      "\n",
      "hello      world\n",
      "***get rid of middle***\n",
      "helloworld\n"
     ]
    },
    {
     "data": {
      "text/plain": [
       "'hello world'"
      ]
     },
     "execution_count": 39,
     "metadata": {},
     "output_type": "execute_result"
    }
   ],
   "source": [
    "s = '      hello      world   \\n'\n",
    "print(s)\n",
    "s = s.strip()\n",
    "print('***str.strip()***\\n')\n",
    "print(s)\n",
    "print('***get rid of middle***')\n",
    "print(s.replace('  ',''))\n",
    "re.sub('\\s+',' ',s)"
   ]
  },
  {
   "cell_type": "markdown",
   "metadata": {},
   "source": [
    "#### 2.12 Problem\n",
    "Some bored script kiddie has entered the text “pýtĥöñ” into a form on your web page\n",
    "and you’d like to clean it up somehow\n",
    "\n",
    "- str.translate()\n",
    "    - takes in a map for the translation\n"
   ]
  },
  {
   "cell_type": "code",
   "execution_count": 43,
   "metadata": {},
   "outputs": [
    {
     "name": "stdout",
     "output_type": "stream",
     "text": [
      "s:  pýtĥöñ\f",
      "is\tawesome\r\n",
      "\n",
      "a:  pýtĥöñ is awesome \n",
      "\n"
     ]
    }
   ],
   "source": [
    "s = 'pýtĥöñ\\fis\\tawesome\\r\\n'\n",
    "print('s: ', s)\n",
    "remap = {\n",
    "    ord('\\t') : ' ',\n",
    "    ord('\\f'): ' ',\n",
    "    ord('\\r'): ' ',\n",
    "}\n",
    "a = s.translate(remap)\n",
    "print('a: ', a)\n"
   ]
  },
  {
   "cell_type": "markdown",
   "metadata": {},
   "source": [
    "#### 2.13 Problem\n",
    "You need to format text with some sort of alignment applied\n",
    "\n",
    "str.ljust\n",
    "str.rjust\n",
    "str.center"
   ]
  },
  {
   "cell_type": "code",
   "execution_count": 59,
   "metadata": {},
   "outputs": [
    {
     "name": "stdout",
     "output_type": "stream",
     "text": [
      "         HELLO WORLD\n",
      "HELLO WORLD         \n",
      "    HELLO WORLD     \n",
      "*********HELLO WORLD\n",
      "HELLO WORLD*********\n",
      "****HELLO WORLD*****\n",
      "\n",
      "*******format*******\n",
      "         HELLO WORLD\n",
      "HELLO WORLD         \n",
      "    HELLO WORLD     \n",
      "*******format*******\n",
      "=========HELLO WORLD\n",
      "HELLO WORLD=========\n",
      "====HELLO WORLD=====\n"
     ]
    }
   ],
   "source": [
    "text = \"HELLO WORLD\"\n",
    "print(text.rjust(20))\n",
    "print(text.ljust(20))\n",
    "print(text.center(20))\n",
    "print(text.rjust(20,'*'))\n",
    "print(text.ljust(20,'*'))\n",
    "print(text.center(20,'*'))\n",
    "print()\n",
    "print('format'.center(20,'*'))\n",
    "print(format(text,'>20'))\n",
    "print(format(text,'<20'))\n",
    "print(format(text,'^20'))\n",
    "print('format'.center(20,'*'))\n",
    "print(format(text,'=>20'))\n",
    "print(format(text,'=<20'))\n",
    "print(format(text,'=^20'))"
   ]
  },
  {
   "cell_type": "markdown",
   "metadata": {},
   "source": [
    "#### 2.14\n",
    "You want to combine many small strings together into a larger string.\n",
    "\n",
    "- join() method\n",
    "- str + str runs slow because it makes a new obj everytime\n",
    "- sep option in str"
   ]
  },
  {
   "cell_type": "code",
   "execution_count": 9,
   "metadata": {},
   "outputs": [
    {
     "name": "stdout",
     "output_type": "stream",
     "text": [
      "parts:  ['Morbius', 'is', 'the', '_', 'Movie', 'Ever!!!']\n",
      "Morbiusisthe_MovieEver!!!\n",
      "Morbius is the _ Movie Ever!!!\n",
      "Morbius, is, the, _, Movie, Ever!!!\n"
     ]
    }
   ],
   "source": [
    "parts = 'Morbius is the _ Movie Ever!!!'.split()\n",
    "print('parts: ',parts)\n",
    "print(''.join(parts))\n",
    "print(' '.join(parts))\n",
    "print(', '.join(parts))"
   ]
  },
  {
   "cell_type": "code",
   "execution_count": 7,
   "metadata": {},
   "outputs": [
    {
     "data": {
      "text/plain": [
       "'Hot Freezes? cold burns? You are confused'"
      ]
     },
     "execution_count": 7,
     "metadata": {},
     "output_type": "execute_result"
    }
   ],
   "source": [
    "def something():\n",
    "    yield 'Hot'\n",
    "    yield 'Freezes?'\n",
    "    yield 'cold'\n",
    "    yield 'burns?'\n",
    "    yield 'You are confused'\n",
    "    \n",
    "something()\n",
    "' '.join(something())"
   ]
  },
  {
   "cell_type": "markdown",
   "metadata": {},
   "source": [
    "#### 2.15 problem\n",
    "You want to create a string in which embedded variable names are substituted with a\n",
    "string representation of a variable’s value."
   ]
  },
  {
   "cell_type": "code",
   "execution_count": 5,
   "metadata": {},
   "outputs": [
    {
     "name": "stdout",
     "output_type": "stream",
     "text": [
      "ebuka has 10 messages\n",
      "Ebuka has 54 messages\n"
     ]
    }
   ],
   "source": [
    "s = '{name} has {n} messages'\n",
    "print(s.format(name='ebuka',n=10))\n",
    "name = 'Ebuka'\n",
    "n = 54\n",
    "print(s.format_map(vars()))"
   ]
  },
  {
   "cell_type": "code",
   "execution_count": null,
   "metadata": {},
   "outputs": [],
   "source": []
  }
 ],
 "metadata": {
  "kernelspec": {
   "display_name": "Python 3 (ipykernel)",
   "language": "python",
   "name": "python3"
  },
  "language_info": {
   "codemirror_mode": {
    "name": "ipython",
    "version": 3
   },
   "file_extension": ".py",
   "mimetype": "text/x-python",
   "name": "python",
   "nbconvert_exporter": "python",
   "pygments_lexer": "ipython3",
   "version": "3.9.12"
  }
 },
 "nbformat": 4,
 "nbformat_minor": 4
}
