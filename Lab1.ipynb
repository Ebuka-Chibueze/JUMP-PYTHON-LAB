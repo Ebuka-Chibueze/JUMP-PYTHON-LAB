{
 "cells": [
  {
   "cell_type": "markdown",
   "id": "17556181-3e0c-4b11-876a-dc5c901ed25f",
   "metadata": {},
   "source": [
    "Lab 1"
   ]
  },
  {
   "cell_type": "markdown",
   "id": "fb14660a-683b-45e9-93f1-b52b0e1a0457",
   "metadata": {},
   "source": [
    "1.1 "
   ]
  },
  {
   "cell_type": "code",
   "execution_count": 2,
   "id": "10231ba5-c4a5-49ae-b4c9-8df6a91b7406",
   "metadata": {},
   "outputs": [],
   "source": [
    "q = (3,4)"
   ]
  },
  {
   "cell_type": "code",
   "execution_count": 3,
   "id": "9a7ac6f1-2cb0-44ac-9929-6e24b83519bf",
   "metadata": {},
   "outputs": [
    {
     "data": {
      "text/plain": [
       "(3, 4)"
      ]
     },
     "execution_count": 3,
     "metadata": {},
     "output_type": "execute_result"
    }
   ],
   "source": [
    "q"
   ]
  },
  {
   "cell_type": "code",
   "execution_count": 4,
   "id": "fe9d026f-1351-4dc5-b118-c215af7d7cd8",
   "metadata": {},
   "outputs": [],
   "source": [
    "x,y = q"
   ]
  },
  {
   "cell_type": "code",
   "execution_count": 5,
   "id": "9c476913-b236-4773-9cd0-e8ec6dd1511c",
   "metadata": {},
   "outputs": [
    {
     "data": {
      "text/plain": [
       "3"
      ]
     },
     "execution_count": 5,
     "metadata": {},
     "output_type": "execute_result"
    }
   ],
   "source": [
    "x"
   ]
  },
  {
   "cell_type": "code",
   "execution_count": 6,
   "id": "ff19ea77-dd4c-4c6c-a1b4-37417c7298c5",
   "metadata": {},
   "outputs": [
    {
     "data": {
      "text/plain": [
       "4"
      ]
     },
     "execution_count": 6,
     "metadata": {},
     "output_type": "execute_result"
    }
   ],
   "source": [
    "y"
   ]
  },
  {
   "cell_type": "code",
   "execution_count": 8,
   "id": "c3436cbd-a68a-46b9-96d3-de2e0accc82a",
   "metadata": {},
   "outputs": [],
   "source": [
    "abc = ['a', 'b', 'c']"
   ]
  },
  {
   "cell_type": "code",
   "execution_count": 9,
   "id": "4c2b574d-4977-41d9-8711-558675b50cd4",
   "metadata": {},
   "outputs": [],
   "source": [
    "a,b,c = abc"
   ]
  },
  {
   "cell_type": "code",
   "execution_count": 10,
   "id": "e084097e-6bd9-4378-bb38-fdb054560507",
   "metadata": {},
   "outputs": [
    {
     "data": {
      "text/plain": [
       "'a'"
      ]
     },
     "execution_count": 10,
     "metadata": {},
     "output_type": "execute_result"
    }
   ],
   "source": [
    "a"
   ]
  },
  {
   "cell_type": "code",
   "execution_count": 11,
   "id": "cbc5748e-c969-47b6-99b1-1fd7d90e93a7",
   "metadata": {},
   "outputs": [
    {
     "data": {
      "text/plain": [
       "'b'"
      ]
     },
     "execution_count": 11,
     "metadata": {},
     "output_type": "execute_result"
    }
   ],
   "source": [
    "b"
   ]
  },
  {
   "cell_type": "code",
   "execution_count": 16,
   "id": "41cd47cc-08e0-4a59-b0f3-a5110033b752",
   "metadata": {},
   "outputs": [
    {
     "data": {
      "text/plain": [
       "'c'"
      ]
     },
     "execution_count": 16,
     "metadata": {},
     "output_type": "execute_result"
    }
   ],
   "source": [
    "c"
   ]
  },
  {
   "cell_type": "markdown",
   "id": "f5a32dd8-e5ab-4223-abc9-3a28d5e8655d",
   "metadata": {},
   "source": [
    "1.2. "
   ]
  },
  {
   "cell_type": "code",
   "execution_count": 40,
   "id": "49407642-8d7f-4b28-bd5b-8df84e21c4a2",
   "metadata": {},
   "outputs": [
    {
     "data": {
      "text/plain": [
       "['b', 'c']"
      ]
     },
     "execution_count": 40,
     "metadata": {},
     "output_type": "execute_result"
    }
   ],
   "source": [
    "def drop_a_and_c(abc):\n",
    "    a, *b = abc\n",
    "    return b\n",
    "drop_a_and_c(abc)"
   ]
  },
  {
   "cell_type": "markdown",
   "id": "b2e0a7f5-0f01-4079-97ce-08c5e6fd0237",
   "metadata": {},
   "source": [
    "1.3. "
   ]
  },
  {
   "cell_type": "code",
   "execution_count": 47,
   "id": "bf0f9703-8967-40a2-9e9c-f83eab59ee77",
   "metadata": {},
   "outputs": [],
   "source": [
    "from collections import deque\n",
    "\n",
    "def search(lines, pattern, history=5):\n",
    "    previous_lines = deque(maxlen=history)\n",
    "    for line in lines:\n",
    "        if pattern in line:\n",
    "            yield line, previous_lines\n",
    "        previous_lines.append(line)"
   ]
  },
  {
   "cell_type": "markdown",
   "id": "cf1b8b29-94a6-4ec0-b07a-6faa6858f5bc",
   "metadata": {},
   "source": [
    "1.4. Finding largest/smallest N numbers"
   ]
  },
  {
   "cell_type": "code",
   "execution_count": 50,
   "id": "f5d3b65f-d2f5-4cf0-a534-1b17a9cff1e9",
   "metadata": {},
   "outputs": [
    {
     "name": "stdout",
     "output_type": "stream",
     "text": [
      "[100, 42, 37]\n",
      "[-900, -4, 1]\n"
     ]
    }
   ],
   "source": [
    "import heapq\n",
    "nums = [1, 8, 2, 23, 7, -4, 18, 23, 42, 37, 2,100,-900]\n",
    "print(heapq.nlargest(3, nums))\n",
    "print(heapq.nsmallest(3, nums))"
   ]
  },
  {
   "cell_type": "markdown",
   "id": "6db8d4bf-d3e1-46f4-9d03-bed80fa3a45a",
   "metadata": {},
   "source": [
    "1.5. Implementing a Priority Queue"
   ]
  },
  {
   "cell_type": "code",
   "execution_count": 54,
   "id": "25b35653-9d7d-4112-86e0-4f625fc96ea0",
   "metadata": {},
   "outputs": [],
   "source": [
    "import heapq\n",
    "\n",
    "class PriorityQueue:\n",
    "    def __init__(self):\n",
    "        self._queue = []\n",
    "        self._index = 0\n",
    "\n",
    "    def push(self, item, priority):\n",
    "        heapq.heappush(self._queue, (-priority, self._index, item))\n",
    "        self._index += 1\n",
    "\n",
    "    def pop(self):\n",
    "        return heapq.heappop(self._queue)[-1]"
   ]
  },
  {
   "cell_type": "code",
   "execution_count": null,
   "id": "863d624f-81d0-4203-9498-261435eb5fff",
   "metadata": {},
   "outputs": [],
   "source": []
  },
  {
   "cell_type": "markdown",
   "id": "aad1e4f9-95f1-4492-9b85-e63263fdf7fb",
   "metadata": {},
   "source": [
    "1.6"
   ]
  },
  {
   "cell_type": "code",
   "execution_count": 79,
   "id": "4379915c-fd2e-4360-a5ad-c23e7bb1a1d3",
   "metadata": {},
   "outputs": [
    {
     "name": "stdout",
     "output_type": "stream",
     "text": [
      " {'a': {1, 2, 3}, 'b': {4, 5}} {'horse': ['zebra', 'Stallion'], 'numbers': [1, 2]} and defaultdict(<class 'list'>, {'a': [1, 2], 'b': [4]})\n"
     ]
    }
   ],
   "source": [
    "from collections import defaultdict\n",
    "\n",
    "d = defaultdict(list)\n",
    "d['a'].append(1)\n",
    "d['a'].append(2)\n",
    "d['b'].append(4)\n",
    "\n",
    "Dict = {'horse':['zebra','Stallion'],'numbers': [1,2]} \n",
    "\n",
    "e = {\n",
    "'a' : {1, 2, 3},\n",
    "'b' : {4, 5}\n",
    "}\n",
    "print(\" {1} {0} and {2}\".format(Dict,e,d))"
   ]
  },
  {
   "cell_type": "markdown",
   "id": "276edb88-96cf-4f9a-a2d4-2543eea53fab",
   "metadata": {},
   "source": [
    "1.7"
   ]
  },
  {
   "cell_type": "code",
   "execution_count": 81,
   "id": "5cf63240-3e80-41a7-b8e3-f1cbdcb431d8",
   "metadata": {},
   "outputs": [
    {
     "name": "stdout",
     "output_type": "stream",
     "text": [
      "foo 1\n",
      "bar 2\n",
      "spam 3\n",
      "grok 4\n"
     ]
    }
   ],
   "source": [
    "from collections import OrderedDict\n",
    "\n",
    "d = OrderedDict()\n",
    "d['foo'] = 1\n",
    "d['bar'] = 2\n",
    "d['spam'] = 3\n",
    "d['grok'] = 4\n",
    "\n",
    "for key in d:\n",
    "    print(key, d[key])"
   ]
  },
  {
   "cell_type": "markdown",
   "id": "01e61794-e2c1-49b7-a995-b3c57b873668",
   "metadata": {},
   "source": [
    "1.8"
   ]
  },
  {
   "cell_type": "code",
   "execution_count": 84,
   "id": "e3fb31db-9f4b-42de-9d42-7a43663cd8ef",
   "metadata": {},
   "outputs": [
    {
     "name": "stdout",
     "output_type": "stream",
     "text": [
      " min(10.75, 'FB') and max(612.78, 'AAPL')\n"
     ]
    }
   ],
   "source": [
    "prices = {\n",
    "'ACME': 45.23,\n",
    "'AAPL': 612.78,\n",
    "'IBM': 205.55,\n",
    "'HPQ': 37.20,\n",
    "'FB': 10.75\n",
    "}\n",
    "\n",
    "min_price = min(zip(prices.values(), prices.keys()))\n",
    "# min_price is (10.75, 'FB')\n",
    "\n",
    "max_price = max(zip(prices.values(), prices.keys()))\n",
    "# max_price is (612.78, 'AAPL')\n",
    "\n",
    "print(\" min{0} and max{1}\".format(min_price,max_price))"
   ]
  },
  {
   "cell_type": "markdown",
   "id": "adcb1f03-cfb2-4d23-86fb-264762db49d6",
   "metadata": {},
   "source": [
    "1.9 Finding Commonalities in Two Dictionaries"
   ]
  },
  {
   "cell_type": "code",
   "execution_count": 85,
   "id": "4366c14a-1014-4088-95b1-22b57052cee3",
   "metadata": {},
   "outputs": [],
   "source": [
    "a = {\n",
    "'x' : 1,\n",
    "'y' : 2,\n",
    "'z' : 3\n",
    "}\n",
    "\n",
    "b = {\n",
    "'w' : 10,\n",
    "'x' : 11,\n",
    "'y' : 2\n",
    "}\n",
    "\n",
    "# Find keys in common\n",
    "aa = a.keys() & b.keys()   # { 'x', 'y' }\n",
    "\n",
    "# Find keys in a that are not in b\n",
    "ab = a.keys() - b.keys()   # { 'z' }\n",
    "\n",
    "# Find (key,value) pairs in common\n",
    "ac= a.items() & b.items() # { ('y', 2) "
   ]
  },
  {
   "cell_type": "markdown",
   "id": "51a4343b-e19d-456b-984b-e260f93ded38",
   "metadata": {},
   "source": [
    "1.10"
   ]
  },
  {
   "cell_type": "code",
   "execution_count": null,
   "id": "b6c8a642-deb2-4ab3-9272-7cf849b7b65c",
   "metadata": {},
   "outputs": [],
   "source": [
    "def dedupe(items):\n",
    "seen = set()\n",
    "for item in items:\n",
    "if item not in seen:\n",
    "yield item\n",
    "seen.add(item)"
   ]
  },
  {
   "cell_type": "markdown",
   "id": "a87fe385-9fc4-487b-a2ab-fa0755e1a4cc",
   "metadata": {},
   "source": [
    "1.11"
   ]
  },
  {
   "cell_type": "code",
   "execution_count": null,
   "id": "4a7b1cf1-f571-4333-a76c-4de9366b86b5",
   "metadata": {},
   "outputs": [],
   "source": [
    "SHARES = slice(20,32)\n",
    "PRICE  = slice(40,48)\n",
    "\n",
    "cost = int(record[SHARES]) * float(record[PRICE])"
   ]
  },
  {
   "cell_type": "markdown",
   "id": "d9d48813-98bb-4a35-b53a-38549fb38644",
   "metadata": {},
   "source": [
    "1.12"
   ]
  },
  {
   "cell_type": "code",
   "execution_count": null,
   "id": "8f24bbb4-450a-4521-b7d7-dd78eeaf1458",
   "metadata": {},
   "outputs": [],
   "source": [
    "words = [\n",
    "'look', 'into', 'my', 'eyes', 'look', 'into', 'my', 'eyes',\n",
    "'the', 'eyes', 'the', 'eyes', 'the', 'eyes', 'not', 'around', 'the',\n",
    "'eyes', \"don't\", 'look', 'around', 'the', 'eyes', 'look', 'into',\n",
    "'my', 'eyes', \"you're\", 'under'\n",
    "]\n",
    "\n",
    "from collections import Counter\n",
    "word_counts = Counter(words)\n",
    "top_three = word_counts.most_common(3)\n",
    "print(top_three)\n",
    "# Outputs [('eyes', 8), ('the', 5), ('look', 4)]"
   ]
  },
  {
   "cell_type": "markdown",
   "id": "58029b57-3941-4803-b968-3cde5522ad54",
   "metadata": {},
   "source": [
    "1.13"
   ]
  },
  {
   "cell_type": "code",
   "execution_count": null,
   "id": "dc32a585-0e20-49e4-8382-925b4e1ec9d0",
   "metadata": {},
   "outputs": [],
   "source": [
    "from operator import itemgetter\n",
    "\n",
    "rows_by_fname = sorted(rows, key=itemgetter('fname'))\n",
    "rows_by_uid = sorted(rows, key=itemgetter('uid'))\n",
    "\n",
    "print(rows_by_fname)\n",
    "print(rows_by_uid)\n",
    "The preceding code would output the following:\n",
    "\n",
    "[{'fname': 'Big', 'uid': 1004, 'lname': 'Jones'},\n",
    "{'fname': 'Brian', 'uid': 1003, 'lname': 'Jones'},\n",
    "{'fname': 'David', 'uid': 1002, 'lname': 'Beazley'},\n",
    "{'fname': 'John', 'uid': 1001, 'lname': 'Cleese'}]\n",
    "\n",
    "[{'fname': 'John', 'uid': 1001, 'lname': 'Cleese'},\n",
    "{'fname': 'David', 'uid': 1002, 'lname': 'Beazley'},\n",
    "{'fname': 'Brian', 'uid': 1003, 'lname': 'Jones'},\n",
    "{'fname': 'Big', 'uid': 1004, 'lname': 'Jones'}]"
   ]
  },
  {
   "cell_type": "markdown",
   "id": "df5fce25-34fb-4a59-8be9-4c78ca8a2065",
   "metadata": {},
   "source": [
    "1.14"
   ]
  },
  {
   "cell_type": "code",
   "execution_count": 92,
   "id": "6ccf2522-3d32-4c8e-8f44-72664eb2dc0c",
   "metadata": {},
   "outputs": [
    {
     "ename": "NameError",
     "evalue": "name 'users' is not defined",
     "output_type": "error",
     "traceback": [
      "\u001b[1;31m---------------------------------------------------------------------------\u001b[0m",
      "\u001b[1;31mNameError\u001b[0m                                 Traceback (most recent call last)",
      "Input \u001b[1;32mIn [92]\u001b[0m, in \u001b[0;36m<cell line: 2>\u001b[1;34m()\u001b[0m\n\u001b[0;32m      1\u001b[0m \u001b[38;5;28;01mfrom\u001b[39;00m \u001b[38;5;21;01moperator\u001b[39;00m \u001b[38;5;28;01mimport\u001b[39;00m attrgetter\n\u001b[1;32m----> 2\u001b[0m \u001b[38;5;28msorted\u001b[39m(\u001b[43musers\u001b[49m, key\u001b[38;5;241m=\u001b[39mattrgetter(\u001b[38;5;124m'\u001b[39m\u001b[38;5;124muser_id\u001b[39m\u001b[38;5;124m'\u001b[39m))\n\u001b[0;32m      3\u001b[0m [User(\u001b[38;5;241m3\u001b[39m), User(\u001b[38;5;241m23\u001b[39m), User(\u001b[38;5;241m99\u001b[39m)]\n",
      "\u001b[1;31mNameError\u001b[0m: name 'users' is not defined"
     ]
    }
   ],
   "source": [
    " from operator import attrgetter\n",
    " sorted(users, key=attrgetter('user_id'))\n",
    "[User(3), User(23), User(99)]\n"
   ]
  },
  {
   "cell_type": "markdown",
   "id": "35c98579-dcd3-4da6-9e23-9f2abd4b84dc",
   "metadata": {},
   "source": [
    "1.15 Grouping Records Together Based on a Field"
   ]
  },
  {
   "cell_type": "code",
   "execution_count": 87,
   "id": "0ce879d1-0dbd-429a-94b3-3f0aba2874dd",
   "metadata": {},
   "outputs": [
    {
     "name": "stdout",
     "output_type": "stream",
     "text": [
      "07/01/2012\n",
      "     {'address': '5412 N CLARK', 'date': '07/01/2012'}\n",
      "     {'address': '4801 N BROADWAY', 'date': '07/01/2012'}\n",
      "07/02/2012\n",
      "     {'address': '5800 E 58TH', 'date': '07/02/2012'}\n",
      "     {'address': '5645 N RAVENSWOOD', 'date': '07/02/2012'}\n",
      "     {'address': '1060 W ADDISON', 'date': '07/02/2012'}\n",
      "07/03/2012\n",
      "     {'address': '2122 N CLARK', 'date': '07/03/2012'}\n",
      "07/04/2012\n",
      "     {'address': '5148 N CLARK', 'date': '07/04/2012'}\n",
      "     {'address': '1039 W GRANVILLE', 'date': '07/04/2012'}\n"
     ]
    }
   ],
   "source": [
    "rows = [\n",
    "{'address': '5412 N CLARK', 'date': '07/01/2012'},\n",
    "{'address': '5148 N CLARK', 'date': '07/04/2012'},\n",
    "{'address': '5800 E 58TH', 'date': '07/02/2012'},\n",
    "{'address': '2122 N CLARK', 'date': '07/03/2012'},\n",
    "{'address': '5645 N RAVENSWOOD', 'date': '07/02/2012'},\n",
    "{'address': '1060 W ADDISON', 'date': '07/02/2012'},\n",
    "{'address': '4801 N BROADWAY', 'date': '07/01/2012'},\n",
    "{'address': '1039 W GRANVILLE', 'date': '07/04/2012'},\n",
    "]\n",
    "\n",
    "from operator import itemgetter\n",
    "from itertools import groupby\n",
    "\n",
    "# Sort by the desired field first\n",
    "rows.sort(key=itemgetter('date'))\n",
    "\n",
    "# Iterate in groups\n",
    "for date, items in groupby(rows, key=itemgetter('date')):\n",
    "    print(date)\n",
    "    for i in items:\n",
    "        print('    ', i)"
   ]
  },
  {
   "cell_type": "markdown",
   "id": "b28b7270-1bab-4026-9697-968e7055128b",
   "metadata": {},
   "source": [
    "1.16"
   ]
  },
  {
   "cell_type": "code",
   "execution_count": 89,
   "id": "a33060da-2b72-47db-94a3-2c6e91e6f3dc",
   "metadata": {},
   "outputs": [],
   "source": [
    " mylist = [1, 4, -5, 10, -7, 2, 3, -1]"
   ]
  },
  {
   "cell_type": "code",
   "execution_count": 90,
   "id": "4c8063cd-0c6f-400c-b9c1-862f912dbfa3",
   "metadata": {},
   "outputs": [
    {
     "data": {
      "text/plain": [
       "[1, 4, 10, 2, 3]"
      ]
     },
     "execution_count": 90,
     "metadata": {},
     "output_type": "execute_result"
    }
   ],
   "source": [
    "[n for n in mylist if n > 0]\n",
    "[1, 4, 10, 2, 3]"
   ]
  },
  {
   "cell_type": "code",
   "execution_count": 91,
   "id": "14a6b589-f1ed-4a57-ade0-ee081eb539cb",
   "metadata": {},
   "outputs": [
    {
     "data": {
      "text/plain": [
       "[-5, -7, -1]"
      ]
     },
     "execution_count": 91,
     "metadata": {},
     "output_type": "execute_result"
    }
   ],
   "source": [
    "[n for n in mylist if n < 0]"
   ]
  },
  {
   "cell_type": "code",
   "execution_count": null,
   "id": "fdce45ca-d674-4aca-8b8c-667fa1b6d9f0",
   "metadata": {},
   "outputs": [],
   "source": []
  },
  {
   "cell_type": "markdown",
   "id": "a9ab8769-dfd3-428f-bea6-7ea0f68865f6",
   "metadata": {},
   "source": [
    "1.17 Extracting a Subset of a Dictionary"
   ]
  },
  {
   "cell_type": "code",
   "execution_count": 95,
   "id": "36cc428d-c1e7-4a62-b6cc-3a4ba54d8da2",
   "metadata": {},
   "outputs": [
    {
     "name": "stdout",
     "output_type": "stream",
     "text": [
      " 1{'AAPL': 612.78, 'IBM': 205.55} and 2{'AAPL': 612.78, 'IBM': 205.55, 'HPQ': 37.2}\n"
     ]
    }
   ],
   "source": [
    "prices = {\n",
    "'ACME': 45.23,\n",
    "'AAPL': 612.78,\n",
    "'IBM': 205.55,\n",
    "'HPQ': 37.20,\n",
    "'FB': 10.75\n",
    "}\n",
    "\n",
    "# Make a dictionary of all prices over 200\n",
    "p1 = { key:value for key, value in prices.items() if value > 200 }\n",
    "\n",
    "# Make a dictionary of tech stocks\n",
    "tech_names = { 'AAPL', 'IBM', 'HPQ', 'MSFT' }\n",
    "p2 = { key:value for key,value in prices.items() if key in tech_names }\n",
    "print(\" 1{0} and 2{1}\".format(p1,p2))"
   ]
  },
  {
   "cell_type": "code",
   "execution_count": null,
   "id": "760d78cc-8c78-4112-9abc-de03bfa3cd3c",
   "metadata": {},
   "outputs": [],
   "source": []
  },
  {
   "cell_type": "markdown",
   "id": "23c530d3-3842-4cbc-89cd-cde3887cb0b8",
   "metadata": {},
   "source": [
    "1.18"
   ]
  },
  {
   "cell_type": "code",
   "execution_count": 96,
   "id": "d690ed20-7fd5-4930-ae3f-0271296c3488",
   "metadata": {},
   "outputs": [],
   "source": [
    "from collections import namedtuple"
   ]
  },
  {
   "cell_type": "code",
   "execution_count": 97,
   "id": "fc883576-b9da-4fd3-837d-92416038a51e",
   "metadata": {},
   "outputs": [],
   "source": [
    "Subscriber = namedtuple('Subscriber', ['addr', 'joined'])"
   ]
  },
  {
   "cell_type": "code",
   "execution_count": 98,
   "id": "353744cf-e567-467b-a8cd-9e4de6fe5465",
   "metadata": {},
   "outputs": [],
   "source": [
    "sub = Subscriber('jonesy@example.com', '2012-10-19')"
   ]
  },
  {
   "cell_type": "code",
   "execution_count": 99,
   "id": "0ef152ca-dd11-4386-adba-27c132b391de",
   "metadata": {},
   "outputs": [
    {
     "data": {
      "text/plain": [
       "Subscriber(addr='jonesy@example.com', joined='2012-10-19')"
      ]
     },
     "execution_count": 99,
     "metadata": {},
     "output_type": "execute_result"
    }
   ],
   "source": [
    "sub"
   ]
  },
  {
   "cell_type": "code",
   "execution_count": 100,
   "id": "567789b0-bf30-4cf1-aeda-0481e99e7b40",
   "metadata": {},
   "outputs": [
    {
     "data": {
      "text/plain": [
       "'jonesy@example.com'"
      ]
     },
     "execution_count": 100,
     "metadata": {},
     "output_type": "execute_result"
    }
   ],
   "source": [
    "sub.addr"
   ]
  },
  {
   "cell_type": "code",
   "execution_count": 101,
   "id": "ccf93b12-d8e7-4943-9fd6-c393925176d4",
   "metadata": {},
   "outputs": [
    {
     "data": {
      "text/plain": [
       "'2012-10-19'"
      ]
     },
     "execution_count": 101,
     "metadata": {},
     "output_type": "execute_result"
    }
   ],
   "source": [
    "sub.joined"
   ]
  },
  {
   "cell_type": "markdown",
   "id": "be483467-266c-4a1e-8be5-e9224d64f5bd",
   "metadata": {},
   "source": [
    "1.19"
   ]
  },
  {
   "cell_type": "code",
   "execution_count": 103,
   "id": "9028aa9c-4fbc-496c-bcf8-7d04de606350",
   "metadata": {},
   "outputs": [
    {
     "data": {
      "text/plain": [
       "55"
      ]
     },
     "execution_count": 103,
     "metadata": {},
     "output_type": "execute_result"
    }
   ],
   "source": [
    "nums = [1, 2, 3, 4, 5]\n",
    "s = sum(x * x for x in nums)\n",
    "s"
   ]
  },
  {
   "cell_type": "markdown",
   "id": "091bfdd2-11f1-47d5-b761-5ca615ea8d6d",
   "metadata": {},
   "source": [
    "1.20"
   ]
  },
  {
   "cell_type": "code",
   "execution_count": 104,
   "id": "7117e58c-7f7c-4cb0-812e-0cad67bb49b9",
   "metadata": {},
   "outputs": [
    {
     "name": "stdout",
     "output_type": "stream",
     "text": [
      "1\n",
      "2\n",
      "3\n"
     ]
    }
   ],
   "source": [
    "from collections import ChainMap\n",
    "\n",
    "a = {'x': 1, 'z': 3 }\n",
    "b = {'y': 2, 'z': 4 }\n",
    "\n",
    "\n",
    "c = ChainMap(a,b)\n",
    "print(c['x'])      # Outputs 1  (from a)\n",
    "print(c['y'])      # Outputs 2  (from b)\n",
    "print(c['z'])      # Outputs 3  (from a)"
   ]
  },
  {
   "cell_type": "markdown",
   "id": "4c77f37f-6a61-438d-a758-0af7246f51e2",
   "metadata": {},
   "source": [
    "# Takeaways\n",
    "Unpacking variable will be useful for anything that involves isolating unique values from lists and tuples. With the “star expression,” unpacking elements has much more flexibility. I can see it being more useful than unpacking values without it. <br />\n",
    "My initial approach to finding the smallest or largest N numbers involved implementing some simple nested for loops. Thanks to the discussion, I have a deeper understanding for why performance and time complexity is important. Instead of wasting time going through every element of the list, I can access the largest or smallest element at a consistent amount of time. It also takes much less time for most lists. I know from my own experiences that lists can scale beyond what we used for this lab. That is why I think it’s great to learn about making the most out of Big O Notation. Applying this mindset could help with other use cases other than determining the largest/smallest N elements. <br />\n",
    "The priority queue should be useful for situations with Operating systems and certain algorithms. The ability to organize elements by priority is useful for anything pertaining to multitasking. <br />\n",
    " Storing multiple values in a key can be used for organizing data. The data points could be unique from each other but still have more than one value. For example, I could use multiple values to represent a product, the company for the product, the store it belongs to, and its price. These 3 values could be ascribed to more than 1 type of product which is why each product would have its own key. <br />\n",
    "An ordered dictionary could help for big workloads that require the dictionary to maintain the order of the inserted keys. Anytime there is a need to control the order of the items OrderDict will be preferred. Examples may include a dictionary where alphabetical or chronological order of the keys matter. Probably because whatever the keys are representing will normally be associated with a particular order. <br />\n",
    "Making calculations with dictionaries will be useful for analysing, comparing, and updating values as well. An example could be finding the tallest student, the average cost of a product, or the minimum stock price for a company. Or if one wanted to change how the keys are represented, they may want to add two previous key values to represent a new one. <br />\n",
    "Like using calculations, finding commonalities could be especially useful for comparing values between dictionaries. Instead of looking for things like an average price, one could observe what two dictionaries have in common or what makes the dictionaries different from each other. The applications would be like calculating things with them. <br />\n",
    "Extracting from another dictionary could be used anytime someone wants a portion of some data. If for whatever reason it that portion of the data is more important to them, they could use that new subset to keep track of it. I could see this being useful when dealing with lots of dictionaries. Or it could give one the ability to ignore less important portions. \n",
    "\n"
   ]
  },
  {
   "cell_type": "code",
   "execution_count": null,
   "id": "a024588d-7f44-4da9-8896-8972ab3cc34d",
   "metadata": {},
   "outputs": [],
   "source": []
  }
 ],
 "metadata": {
  "kernelspec": {
   "display_name": "Python 3 (ipykernel)",
   "language": "python",
   "name": "python3"
  },
  "language_info": {
   "codemirror_mode": {
    "name": "ipython",
    "version": 3
   },
   "file_extension": ".py",
   "mimetype": "text/x-python",
   "name": "python",
   "nbconvert_exporter": "python",
   "pygments_lexer": "ipython3",
   "version": "3.9.12"
  }
 },
 "nbformat": 4,
 "nbformat_minor": 5
}
