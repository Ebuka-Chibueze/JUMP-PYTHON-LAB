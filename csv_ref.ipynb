{
 "cells": [
  {
   "cell_type": "markdown",
   "id": "6a7fbaa0",
   "metadata": {},
   "source": [
    "# Chapter 6 CSV practice"
   ]
  },
  {
   "cell_type": "markdown",
   "id": "8ce547f1",
   "metadata": {},
   "source": [
    "## 6.1. "
   ]
  },
  {
   "cell_type": "code",
   "execution_count": 2,
   "id": "0cb840b5",
   "metadata": {},
   "outputs": [],
   "source": [
    "import csv\n",
    "from collections import namedtuple"
   ]
  },
  {
   "cell_type": "code",
   "execution_count": 4,
   "id": "95b39664",
   "metadata": {},
   "outputs": [
    {
     "name": "stdout",
     "output_type": "stream",
     "text": [
      "['AA', '39.48', '6/11/2007', '9:36am', '-0.18', '181800']\n",
      "['AIG', '71.38', '6/11/2007', '9:36am', '-0.15', '195500']\n",
      "['AXP', '62.58', '6/11/2007', '9:36am', '-0.46', '935000']\n",
      "['BA', '98.31', '6/11/2007', '9:36am', '+0.12', '104800']\n",
      "['C', '53.08', '6/11/2007', '9:36am', '-0.25', '360900']\n",
      "['CAT', '78.29', '6/11/2007', '9:36am', '-0.23', '225400']\n"
     ]
    }
   ],
   "source": [
    "with open('stocks.csv') as f:\n",
    "    f_csv = csv.reader(f)\n",
    "    headers = next(f_csv)\n",
    "    for row in f_csv:\n",
    "        print(row)"
   ]
  },
  {
   "cell_type": "code",
   "execution_count": 6,
   "id": "f4f13f8d",
   "metadata": {},
   "outputs": [
    {
     "name": "stdout",
     "output_type": "stream",
     "text": [
      "['Jack', 'McGinnis', '220 hobo Av.', 'Phila', ' PA', '09119']\n",
      "['John \"Da Man\"', 'Repici', '120 Jefferson St.', 'Riverside', ' NJ', '08075']\n",
      "['Stephen', 'Tyler', '7452 Terrace \"At the Plaza\" road', 'SomeTown', 'SD', ' 91234']\n",
      "['', 'Blankman', '', 'SomeTown', ' SD', ' 00298']\n",
      "['Joan \"the bone\", Anne', 'Jet', '9th, at Terrace plc', 'Desert City', 'CO', '00123']\n"
     ]
    }
   ],
   "source": [
    "with open('addresses.csv') as f:\n",
    "    f_csv = csv.reader(f)\n",
    "    headers = next(f_csv)\n",
    "    for row in f_csv:\n",
    "        print(row)"
   ]
  },
  {
   "cell_type": "markdown",
   "id": "a5b75d82",
   "metadata": {},
   "source": [
    "### Noting how formatting affects it"
   ]
  },
  {
   "cell_type": "code",
   "execution_count": 8,
   "id": "1d5b26a4",
   "metadata": {},
   "outputs": [
    {
     "ename": "ValueError",
     "evalue": "Type names and field names must be valid identifiers: '120 jefferson st.'",
     "output_type": "error",
     "traceback": [
      "\u001b[1;31m---------------------------------------------------------------------------\u001b[0m",
      "\u001b[1;31mValueError\u001b[0m                                Traceback (most recent call last)",
      "Input \u001b[1;32mIn [8]\u001b[0m, in \u001b[0;36m<cell line: 1>\u001b[1;34m()\u001b[0m\n\u001b[0;32m      2\u001b[0m f_csv \u001b[38;5;241m=\u001b[39m csv\u001b[38;5;241m.\u001b[39mreader(f)\n\u001b[0;32m      3\u001b[0m headings \u001b[38;5;241m=\u001b[39m \u001b[38;5;28mnext\u001b[39m(f_csv)\n\u001b[1;32m----> 4\u001b[0m Row \u001b[38;5;241m=\u001b[39m \u001b[43mnamedtuple\u001b[49m\u001b[43m(\u001b[49m\u001b[38;5;124;43m'\u001b[39;49m\u001b[38;5;124;43mRow\u001b[39;49m\u001b[38;5;124;43m'\u001b[39;49m\u001b[43m,\u001b[49m\u001b[43m \u001b[49m\u001b[43mheadings\u001b[49m\u001b[43m)\u001b[49m\n\u001b[0;32m      5\u001b[0m \u001b[38;5;28;01mfor\u001b[39;00m r \u001b[38;5;129;01min\u001b[39;00m f_csv:\n\u001b[0;32m      6\u001b[0m     row \u001b[38;5;241m=\u001b[39m Row(\u001b[38;5;241m*\u001b[39mr)\n",
      "File \u001b[1;32m~\\anaconda3\\lib\\collections\\__init__.py:390\u001b[0m, in \u001b[0;36mnamedtuple\u001b[1;34m(typename, field_names, rename, defaults, module)\u001b[0m\n\u001b[0;32m    388\u001b[0m     \u001b[38;5;28;01mraise\u001b[39;00m \u001b[38;5;167;01mTypeError\u001b[39;00m(\u001b[38;5;124m'\u001b[39m\u001b[38;5;124mType names and field names must be strings\u001b[39m\u001b[38;5;124m'\u001b[39m)\n\u001b[0;32m    389\u001b[0m \u001b[38;5;28;01mif\u001b[39;00m \u001b[38;5;129;01mnot\u001b[39;00m name\u001b[38;5;241m.\u001b[39misidentifier():\n\u001b[1;32m--> 390\u001b[0m     \u001b[38;5;28;01mraise\u001b[39;00m \u001b[38;5;167;01mValueError\u001b[39;00m(\u001b[38;5;124m'\u001b[39m\u001b[38;5;124mType names and field names must be valid \u001b[39m\u001b[38;5;124m'\u001b[39m\n\u001b[0;32m    391\u001b[0m                      \u001b[38;5;124mf\u001b[39m\u001b[38;5;124m'\u001b[39m\u001b[38;5;124midentifiers: \u001b[39m\u001b[38;5;132;01m{\u001b[39;00mname\u001b[38;5;132;01m!r}\u001b[39;00m\u001b[38;5;124m'\u001b[39m)\n\u001b[0;32m    392\u001b[0m \u001b[38;5;28;01mif\u001b[39;00m _iskeyword(name):\n\u001b[0;32m    393\u001b[0m     \u001b[38;5;28;01mraise\u001b[39;00m \u001b[38;5;167;01mValueError\u001b[39;00m(\u001b[38;5;124m'\u001b[39m\u001b[38;5;124mType names and field names cannot be a \u001b[39m\u001b[38;5;124m'\u001b[39m\n\u001b[0;32m    394\u001b[0m                      \u001b[38;5;124mf\u001b[39m\u001b[38;5;124m'\u001b[39m\u001b[38;5;124mkeyword: \u001b[39m\u001b[38;5;132;01m{\u001b[39;00mname\u001b[38;5;132;01m!r}\u001b[39;00m\u001b[38;5;124m'\u001b[39m)\n",
      "\u001b[1;31mValueError\u001b[0m: Type names and field names must be valid identifiers: '120 jefferson st.'"
     ]
    }
   ],
   "source": [
    "with open('addresses.csv') as f:\n",
    "    f_csv = csv.reader(f)\n",
    "    headings = next(f_csv)\n",
    "    Row = namedtuple('Row', headings)\n",
    "    for r in f_csv:\n",
    "        row = Row(*r)\n",
    "        print(row)"
   ]
  },
  {
   "cell_type": "markdown",
   "id": "506d0ff7",
   "metadata": {},
   "source": [
    "### The even strucure and format avoids error\n",
    "Printing rows individually with for loop"
   ]
  },
  {
   "cell_type": "code",
   "execution_count": 7,
   "id": "7b24eda1",
   "metadata": {},
   "outputs": [
    {
     "name": "stdout",
     "output_type": "stream",
     "text": [
      "Row(Symbol='AA', Price='39.48', Date='6/11/2007', Time='9:36am', Change='-0.18', Volume='181800')\n",
      "Row(Symbol='AIG', Price='71.38', Date='6/11/2007', Time='9:36am', Change='-0.15', Volume='195500')\n",
      "Row(Symbol='AXP', Price='62.58', Date='6/11/2007', Time='9:36am', Change='-0.46', Volume='935000')\n",
      "Row(Symbol='BA', Price='98.31', Date='6/11/2007', Time='9:36am', Change='+0.12', Volume='104800')\n",
      "Row(Symbol='C', Price='53.08', Date='6/11/2007', Time='9:36am', Change='-0.25', Volume='360900')\n",
      "Row(Symbol='CAT', Price='78.29', Date='6/11/2007', Time='9:36am', Change='-0.23', Volume='225400')\n"
     ]
    }
   ],
   "source": [
    "with open('stocks.csv') as f:\n",
    "    f_csv = csv.reader(f)\n",
    "    headings = next(f_csv)\n",
    "    Row = namedtuple('Row', headings)\n",
    "    for r in f_csv:\n",
    "        row = Row(*r)\n",
    "        print(row)"
   ]
  },
  {
   "cell_type": "code",
   "execution_count": 10,
   "id": "b9376068",
   "metadata": {},
   "outputs": [
    {
     "name": "stdout",
     "output_type": "stream",
     "text": [
      "{'Symbol': 'AA', 'Price': '39.48', 'Date': '6/11/2007', 'Time': '9:36am', 'Change': '-0.18', 'Volume': '181800'}\n",
      "{'Symbol': 'AIG', 'Price': '71.38', 'Date': '6/11/2007', 'Time': '9:36am', 'Change': '-0.15', 'Volume': '195500'}\n",
      "{'Symbol': 'AXP', 'Price': '62.58', 'Date': '6/11/2007', 'Time': '9:36am', 'Change': '-0.46', 'Volume': '935000'}\n",
      "{'Symbol': 'BA', 'Price': '98.31', 'Date': '6/11/2007', 'Time': '9:36am', 'Change': '+0.12', 'Volume': '104800'}\n",
      "{'Symbol': 'C', 'Price': '53.08', 'Date': '6/11/2007', 'Time': '9:36am', 'Change': '-0.25', 'Volume': '360900'}\n",
      "{'Symbol': 'CAT', 'Price': '78.29', 'Date': '6/11/2007', 'Time': '9:36am', 'Change': '-0.23', 'Volume': '225400'}\n"
     ]
    }
   ],
   "source": [
    "with open('stocks.csv') as f:\n",
    "    f_csv = csv.DictReader(f)\n",
    "    for row in f_csv:\n",
    "        print(row)"
   ]
  },
  {
   "cell_type": "code",
   "execution_count": 8,
   "id": "589ef3eb",
   "metadata": {},
   "outputs": [],
   "source": [
    "with open('stocks.csv', 'w') as f:\n",
    "    f_csv = csv.writer(f)\n",
    "    f_csv.writerow(headers)\n",
    "    f_csv.writerow(rows)"
   ]
  },
  {
   "cell_type": "code",
   "execution_count": 9,
   "id": "07d6a0dc",
   "metadata": {},
   "outputs": [],
   "source": [
    "headers = ['Symbol', 'Price', 'Date', 'Time', 'Change', 'Volume']"
   ]
  },
  {
   "cell_type": "code",
   "execution_count": 10,
   "id": "363f7b83",
   "metadata": {},
   "outputs": [],
   "source": [
    "rows = [{'Symbol':'AA', 'Price':39.48, 'Date':'6/11/2007',\n",
    "        'Time':'9:36am', 'Change':-0.18, 'Volume':181800},\n",
    "        {'Symbol':'AIG', 'Price': 71.38, 'Date':'6/11/2007',\n",
    "        'Time':'9:36am', 'Change':-0.15, 'Volume': 195500},\n",
    "        {'Symbol':'AXP', 'Price': 62.58, 'Date':'6/11/2007',\n",
    "         'Time':'9:36am', 'Change':-0.46, 'Volume': 935000},\n",
    "        ]"
   ]
  },
  {
   "cell_type": "code",
   "execution_count": 11,
   "id": "6e523132",
   "metadata": {},
   "outputs": [],
   "source": [
    "with open('stocks.csv', 'w') as f:\n",
    "    f_csv = csv.DictWriter(f, headers)\n",
    "    f_csv.writeheader()\n",
    "    f_csv.writerows(rows)"
   ]
  },
  {
   "cell_type": "code",
   "execution_count": 12,
   "id": "5d899eb3",
   "metadata": {},
   "outputs": [
    {
     "name": "stdout",
     "output_type": "stream",
     "text": [
      "['Symbol', 'Price', 'Date', 'Time', 'Change', 'Volume\\n']\n",
      "['\"AA\"', '39.48', '\"6/11/2007\"', '\"9:36am\"', '-0.18', '181800\\n']\n",
      "['\"AIG\"', '71.38', '\"6/11/2007\"', '\"9:36am\"', '-0.15', '195500\\n']\n",
      "['\"AXP\"', '62.58', '\"6/11/2007\"', '\"9:36am\"', '-0.46', '935000\\n']\n",
      "['\"BA\"', '98.31', '\"6/11/2007\"', '\"9:36am\"', '+0.12', '104800\\n']\n",
      "['\"C\"', '53.08', '\"6/11/2007\"', '\"9:36am\"', '-0.25', '360900\\n']\n",
      "['\"CAT\"', '78.29', '\"6/11/2007\"', '\"9:36am\"', '-0.23', '225400']\n"
     ]
    }
   ],
   "source": [
    "with open('stocks.csv') as f:\n",
    "    for line in f:\n",
    "        row = line.split(',')\n",
    "        print(row)"
   ]
  },
  {
   "cell_type": "markdown",
   "id": "9b7912ea",
   "metadata": {},
   "source": [
    "## Writing to CSV"
   ]
  },
  {
   "cell_type": "code",
   "execution_count": 17,
   "id": "7a68bb7a",
   "metadata": {},
   "outputs": [
    {
     "data": {
      "text/plain": [
       "7"
      ]
     },
     "execution_count": 17,
     "metadata": {},
     "output_type": "execute_result"
    }
   ],
   "source": [
    "# Writing to CSV Files\n",
    "file_to_output = open('to_save_file.csv','w',newline='')\n",
    "csv_writer = csv.writer(file_to_output,delimiter=',')\n",
    "csv_writer.writerow(['a','b','c'])"
   ]
  },
  {
   "cell_type": "code",
   "execution_count": 18,
   "id": "80313a4c",
   "metadata": {},
   "outputs": [],
   "source": [
    "csv_writer.writerows([['1','2','3'],['4','5','6']])\n"
   ]
  },
  {
   "cell_type": "code",
   "execution_count": 19,
   "id": "e31857e9",
   "metadata": {},
   "outputs": [],
   "source": [
    "file_to_output.close()\n"
   ]
  },
  {
   "cell_type": "code",
   "execution_count": null,
   "id": "c4a7fd72",
   "metadata": {},
   "outputs": [],
   "source": [
    "Existing File"
   ]
  },
  {
   "cell_type": "code",
   "execution_count": 20,
   "id": "87b90c65",
   "metadata": {},
   "outputs": [],
   "source": [
    "f = open('to_save_file.csv','a',newline='')\n",
    "\n",
    "csv_writer = csv.writer(f)\n",
    "\n",
    "csv_writer.writerow(['new','new','new'])\n",
    "\n",
    "f.close()\n",
    "\n"
   ]
  },
  {
   "cell_type": "markdown",
   "id": "06c151b7",
   "metadata": {},
   "source": [
    "## Other\n",
    "appending csv into list"
   ]
  },
  {
   "cell_type": "code",
   "execution_count": 23,
   "id": "d075d48f",
   "metadata": {},
   "outputs": [
    {
     "name": "stdout",
     "output_type": "stream",
     "text": [
      "['Jack', 'John \"Da Man\"', 'Stephen', '', 'Joan \"the bone\", Anne']\n"
     ]
    }
   ],
   "source": [
    "# -*- coding: utf-8 -*-\n",
    "\"\"\"\n",
    "Created on Tue Oct  4 14:03:20 2022\n",
    "\n",
    "@author: ebuka\n",
    "\"\"\"\n",
    "\n",
    "\n",
    "\n",
    "import csv\n",
    "\n",
    "data = open('addresses.csv')\n",
    "\n",
    "\n",
    "\n",
    "#csv_data = csv.reader(data)\n",
    "\n",
    "\n",
    "csv_data = csv.reader(data)\n",
    "\n",
    "\n",
    "data = open('addresses.csv',encoding=\"utf-8\")\n",
    "csv_data = csv.reader(data)\n",
    "data_lines = list(csv_data)\n",
    "\n",
    "\n",
    "all_names = []\n",
    "for line in data_lines[1:15]:\n",
    "    all_names.append(line[0]) #line 0 as in the first line -> where all the names are\n",
    "    \n",
    "print(all_names)"
   ]
  },
  {
   "cell_type": "code",
   "execution_count": null,
   "id": "236dac12",
   "metadata": {},
   "outputs": [],
   "source": []
  }
 ],
 "metadata": {
  "kernelspec": {
   "display_name": "Python 3 (ipykernel)",
   "language": "python",
   "name": "python3"
  },
  "language_info": {
   "codemirror_mode": {
    "name": "ipython",
    "version": 3
   },
   "file_extension": ".py",
   "mimetype": "text/x-python",
   "name": "python",
   "nbconvert_exporter": "python",
   "pygments_lexer": "ipython3",
   "version": "3.9.12"
  }
 },
 "nbformat": 4,
 "nbformat_minor": 5
}
